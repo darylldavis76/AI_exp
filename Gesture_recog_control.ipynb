{
 "cells": [
  {
   "cell_type": "code",
   "execution_count": 2,
   "metadata": {},
   "outputs": [],
   "source": [
    "import mediapipe as mp \n",
    "import cv2\n",
    "import time"
   ]
  },
  {
   "cell_type": "code",
   "execution_count": 3,
   "metadata": {},
   "outputs": [],
   "source": [
    "mp_hands = mp.solutions.hands\n",
    "mp_drawing = mp.solutions.drawing_utils\n",
    "\n",
    "# Initialize mediapipe hand object\n",
    "hands = mp_hands.Hands(max_num_hands=2,min_detection_confidence=0.5,min_tracking_confidence=0.5)"
   ]
  },
  {
   "cell_type": "code",
   "execution_count": 7,
   "metadata": {},
   "outputs": [],
   "source": [
    "cap = cv2.VideoCapture(1)\n",
    "\n",
    "if not cap.isOpened():\n",
    "    print(\"Error: Could not open Video Capture.\")\n",
    "    exit()\n",
    "\n",
    "def is_thumbs_up(hand_landmarks):\n",
    "    # Thumb tip(landmark number 4) should be above thumb MCP (landmark number 2)\n",
    "    thumb_tip = hand_landmarks.landmark[4]\n",
    "    thumb_mcp = hand_landmarks.landmark[2]\n",
    "\n",
    "    # Check if thumb is up\n",
    "    if thumb_tip.y < thumb_mcp.y:\n",
    "        return True\n",
    "    return False\n",
    "\n",
    "while cap.isOpened():\n",
    "    ret, frame = cap.read()\n",
    "\n",
    "    if not ret:\n",
    "        print(\"Error: Failed to read the frame\")\n",
    "        break\n",
    "\n",
    "    flipped_frame = cv2.flip(frame,1)\n",
    "    frame_rgb = cv2.cvtColor(flipped_frame, cv2.COLOR_BGR2RGB)\n",
    "\n",
    "    result = hands.process(frame_rgb)\n",
    "    if result.multi_hand_landmarks:\n",
    "        for hand_landmarks in result.multi_hand_landmarks:\n",
    "            mp_drawing.draw_landmarks(frame_rgb, hand_landmarks, mp_hands.HAND_CONNECTIONS)\n",
    "\n",
    "            # Check for thumbs up gesture\n",
    "            if is_thumbs_up(hand_landmarks):\n",
    "                cv2.putText(frame_rgb, \"Keep up the spirit!\", (10, 30), cv2.FONT_HERSHEY_SIMPLEX, 1, (0, 0, 255), 2, cv2.LINE_AA)\n",
    "            else:\n",
    "                cv2.putText(frame_rgb, \"Come on, don't lose HOPE!\", (10, 30), cv2.FONT_HERSHEY_SIMPLEX, 1, (255, 0, 0), 2, cv2.LINE_AA)\n",
    "    \n",
    "    # Convert back to BGR for displaying with OpenCV\n",
    "    frame_bgr = cv2.cvtColor(frame_rgb, cv2.COLOR_RGB2BGR)\n",
    "    cv2.imshow('Hand Tracking', frame_bgr)\n",
    "\n",
    "    if cv2.waitKey(5) & 0xFF==ord('q'):\n",
    "        break\n",
    "\n",
    "cap.release()\n",
    "cv2.destroyAllWindows()\n"
   ]
  },
  {
   "cell_type": "code",
   "execution_count": null,
   "metadata": {},
   "outputs": [],
   "source": []
  }
 ],
 "metadata": {
  "kernelspec": {
   "display_name": "AI_exp (Python)",
   "language": "python",
   "name": "ai_exp"
  },
  "language_info": {
   "codemirror_mode": {
    "name": "ipython",
    "version": 3
   },
   "file_extension": ".py",
   "mimetype": "text/x-python",
   "name": "python",
   "nbconvert_exporter": "python",
   "pygments_lexer": "ipython3",
   "version": "3.12.4"
  }
 },
 "nbformat": 4,
 "nbformat_minor": 2
}
